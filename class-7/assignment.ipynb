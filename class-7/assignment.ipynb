{
 "cells": [
  {
   "cell_type": "code",
   "execution_count": null,
   "metadata": {},
   "outputs": [
    {
     "name": "stdout",
     "output_type": "stream",
     "text": [
      "Welcome to the Number Guessing Game!\n",
      "I'm thinking of a number between 1 and 20.\n"
     ]
    }
   ],
   "source": [
    "import random\n",
    "\n",
    "# Generate a random target number between 1 and 20\n",
    "target_number = random.randint(1, 20)\n",
    "attempts = 0\n",
    "\n",
    "print(\"Welcome to the Number Guessing Game!\")\n",
    "print(\"I'm thinking of a number between 1 and 20.\")\n",
    "\n",
    "while True:\n",
    "    try:\n",
    "        # Get the user's guess\n",
    "        guess = int(input(\"Enter your guess (1-20): \"))\n",
    "        attempts += 1\n",
    "\n",
    "        # Check if the guess is out of range\n",
    "        if guess < 1 or guess > 20:\n",
    "            print(\"Please enter a number between 1 and 20!\")\n",
    "            continue\n",
    "\n",
    "        # Check if the guess is correct\n",
    "        if guess == target_number:\n",
    "            print(f\"Congratulations! You guessed it in {attempts} attempts!\")\n",
    "            break\n",
    "        elif guess < target_number:\n",
    "            print(\"Too low! Try again.\")\n",
    "        else:\n",
    "            print(\"Too high! Try again.\")\n",
    "\n",
    "    except ValueError:\n",
    "        print(\"Invalid input. Please enter a valid number!\")\n"
   ]
  }
 ],
 "metadata": {
  "kernelspec": {
   "display_name": "Python 3",
   "language": "python",
   "name": "python3"
  },
  "language_info": {
   "codemirror_mode": {
    "name": "ipython",
    "version": 3
   },
   "file_extension": ".py",
   "mimetype": "text/x-python",
   "name": "python",
   "nbconvert_exporter": "python",
   "pygments_lexer": "ipython3",
   "version": "3.12.1"
  }
 },
 "nbformat": 4,
 "nbformat_minor": 2
}
